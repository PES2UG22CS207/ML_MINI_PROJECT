{
 "cells": [
  {
   "cell_type": "code",
   "execution_count": 2,
   "metadata": {
    "_cell_guid": "b1076dfc-b9ad-4769-8c92-a6c4dae69d19",
    "_uuid": "8f2839f25d086af736a60e9eeb907d3b93b6e0e5",
    "execution": {
     "iopub.execute_input": "2025-10-14T06:22:56.774717Z",
     "iopub.status.busy": "2025-10-14T06:22:56.773736Z",
     "iopub.status.idle": "2025-10-14T06:22:56.786489Z",
     "shell.execute_reply": "2025-10-14T06:22:56.785547Z",
     "shell.execute_reply.started": "2025-10-14T06:22:56.774676Z"
    },
    "trusted": true
   },
   "outputs": [
    {
     "name": "stdout",
     "output_type": "stream",
     "text": [
      "/kaggle/input/852k-used-car-listings/tc20171021.csv\n",
      "/kaggle/input/852k-used-car-listings/true_car_listings.csv\n"
     ]
    }
   ],
   "source": [
    "# This Python 3 environment comes with many helpful analytics libraries installed\n",
    "# It is defined by the kaggle/python Docker image: https://github.com/kaggle/docker-python\n",
    "# For example, here's several helpful packages to load\n",
    "\n",
    "import numpy as np # linear algebra\n",
    "import pandas as pd # data processing, CSV file I/O (e.g. pd.read_csv)\n",
    "\n",
    "# Input data files are available in the read-only \"../input/\" directory\n",
    "# For example, running this (by clicking run or pressing Shift+Enter) will list all files under the input directory\n",
    "\n",
    "import os\n",
    "for dirname, _, filenames in os.walk('/kaggle/input'):\n",
    "    for filename in filenames:\n",
    "        print(os.path.join(dirname, filename))\n",
    "\n",
    "# You can write up to 20GB to the current directory (/kaggle/working/) that gets preserved as output when you create a version using \"Save & Run All\" \n",
    "# You can also write temporary files to /kaggle/temp/, but they won't be saved outside of the current session"
   ]
  },
  {
   "cell_type": "markdown",
   "metadata": {},
   "source": [
    "we have used true_car_listings.csv as testing data set\n",
    "and tc20171021.csv as training data\n"
   ]
  },
  {
   "cell_type": "markdown",
   "metadata": {},
   "source": [
    "importing libraries"
   ]
  },
  {
   "cell_type": "code",
   "execution_count": 3,
   "metadata": {
    "execution": {
     "iopub.execute_input": "2025-10-14T06:22:56.788701Z",
     "iopub.status.busy": "2025-10-14T06:22:56.788417Z",
     "iopub.status.idle": "2025-10-14T06:22:57.811301Z",
     "shell.execute_reply": "2025-10-14T06:22:57.810287Z",
     "shell.execute_reply.started": "2025-10-14T06:22:56.788676Z"
    },
    "trusted": true
   },
   "outputs": [],
   "source": [
    "import pandas as pd\n",
    "import numpy as np\n",
    "import scipy as spy\n",
    "import copy\n",
    "import math\n",
    "import matplotlib as mpl\n",
    "import seaborn as sns\n",
    "import matplotlib.pyplot as plt\n",
    "%matplotlib inline\n",
    "\n",
    "import statsmodels.api as sm\n",
    "from sklearn.model_selection import train_test_split\n",
    "# from sklearn.linear_model import LinearRegression\n",
    "# from sklearn import linear_model\n",
    "\n",
    "from sklearn.metrics import mean_absolute_error, mean_squared_error, r2_score"
   ]
  },
  {
   "cell_type": "code",
   "execution_count": 4,
   "metadata": {
    "execution": {
     "iopub.execute_input": "2025-10-14T06:22:57.812965Z",
     "iopub.status.busy": "2025-10-14T06:22:57.812478Z",
     "iopub.status.idle": "2025-10-14T06:22:57.817989Z",
     "shell.execute_reply": "2025-10-14T06:22:57.817142Z",
     "shell.execute_reply.started": "2025-10-14T06:22:57.812937Z"
    },
    "trusted": true
   },
   "outputs": [],
   "source": [
    "# Suppress warnings\n",
    "import warnings\n",
    "warnings.filterwarnings('ignore')"
   ]
  },
  {
   "cell_type": "code",
   "execution_count": 5,
   "metadata": {
    "execution": {
     "iopub.execute_input": "2025-10-14T06:22:57.819245Z",
     "iopub.status.busy": "2025-10-14T06:22:57.819001Z",
     "iopub.status.idle": "2025-10-14T06:22:57.995484Z",
     "shell.execute_reply": "2025-10-14T06:22:57.994101Z",
     "shell.execute_reply.started": "2025-10-14T06:22:57.819226Z"
    },
    "trusted": true
   },
   "outputs": [
    {
     "name": "stdout",
     "output_type": "stream",
     "text": [
      "tc20171021.csv\ttrue_car_listings.csv\n"
     ]
    }
   ],
   "source": [
    "!ls /kaggle/input/852k-used-car-listings\n"
   ]
  },
  {
   "cell_type": "markdown",
   "metadata": {},
   "source": [
    "DATA INGESTION"
   ]
  },
  {
   "cell_type": "code",
   "execution_count": 6,
   "metadata": {
    "execution": {
     "iopub.execute_input": "2025-10-14T06:22:57.999239Z",
     "iopub.status.busy": "2025-10-14T06:22:57.998921Z",
     "iopub.status.idle": "2025-10-14T06:22:59.792429Z",
     "shell.execute_reply": "2025-10-14T06:22:59.791332Z",
     "shell.execute_reply.started": "2025-10-14T06:22:57.999212Z"
    },
    "trusted": true
   },
   "outputs": [],
   "source": [
    "data = pd.read_csv(\"/kaggle/input/852k-used-car-listings/tc20171021.csv.csv\")"
   ]
  },
  {
   "cell_type": "markdown",
   "metadata": {},
   "source": [
    "PREVIEW THE DATASET"
   ]
  },
  {
   "cell_type": "code",
   "execution_count": 7,
   "metadata": {
    "execution": {
     "iopub.execute_input": "2025-10-14T06:22:59.793881Z",
     "iopub.status.busy": "2025-10-14T06:22:59.793513Z",
     "iopub.status.idle": "2025-10-14T06:22:59.869652Z",
     "shell.execute_reply": "2025-10-14T06:22:59.868820Z",
     "shell.execute_reply.started": "2025-10-14T06:22:59.793855Z"
    },
    "trusted": true
   },
   "outputs": [
    {
     "name": "stdout",
     "output_type": "stream",
     "text": [
      "First five rows --------------------------------------------------------------------------------------------------------------\n"
     ]
    },
    {
     "data": {
      "text/html": [
       "<div>\n",
       "<style scoped>\n",
       "    .dataframe tbody tr th:only-of-type {\n",
       "        vertical-align: middle;\n",
       "    }\n",
       "\n",
       "    .dataframe tbody tr th {\n",
       "        vertical-align: top;\n",
       "    }\n",
       "\n",
       "    .dataframe thead th {\n",
       "        text-align: right;\n",
       "    }\n",
       "</style>\n",
       "<table border=\"1\" class=\"dataframe\">\n",
       "  <thead>\n",
       "    <tr style=\"text-align: right;\">\n",
       "      <th></th>\n",
       "      <th>Price</th>\n",
       "      <th>Year</th>\n",
       "      <th>Mileage</th>\n",
       "      <th>City</th>\n",
       "      <th>State</th>\n",
       "      <th>Vin</th>\n",
       "      <th>Make</th>\n",
       "      <th>Model</th>\n",
       "    </tr>\n",
       "  </thead>\n",
       "  <tbody>\n",
       "    <tr>\n",
       "      <th>0</th>\n",
       "      <td>8995</td>\n",
       "      <td>2014</td>\n",
       "      <td>35725</td>\n",
       "      <td>El Paso</td>\n",
       "      <td>TX</td>\n",
       "      <td>19VDE2E53EE000083</td>\n",
       "      <td>Acura</td>\n",
       "      <td>ILX6-Speed</td>\n",
       "    </tr>\n",
       "    <tr>\n",
       "      <th>1</th>\n",
       "      <td>10888</td>\n",
       "      <td>2013</td>\n",
       "      <td>19606</td>\n",
       "      <td>Long Island City</td>\n",
       "      <td>NY</td>\n",
       "      <td>19VDE1F52DE012636</td>\n",
       "      <td>Acura</td>\n",
       "      <td>ILX5-Speed</td>\n",
       "    </tr>\n",
       "    <tr>\n",
       "      <th>2</th>\n",
       "      <td>8995</td>\n",
       "      <td>2013</td>\n",
       "      <td>48851</td>\n",
       "      <td>El Paso</td>\n",
       "      <td>TX</td>\n",
       "      <td>19VDE2E52DE000025</td>\n",
       "      <td>Acura</td>\n",
       "      <td>ILX6-Speed</td>\n",
       "    </tr>\n",
       "    <tr>\n",
       "      <th>3</th>\n",
       "      <td>10999</td>\n",
       "      <td>2014</td>\n",
       "      <td>39922</td>\n",
       "      <td>Windsor</td>\n",
       "      <td>CO</td>\n",
       "      <td>19VDE1F71EE003817</td>\n",
       "      <td>Acura</td>\n",
       "      <td>ILX5-Speed</td>\n",
       "    </tr>\n",
       "    <tr>\n",
       "      <th>4</th>\n",
       "      <td>14799</td>\n",
       "      <td>2016</td>\n",
       "      <td>22142</td>\n",
       "      <td>Lindon</td>\n",
       "      <td>UT</td>\n",
       "      <td>19UDE2F32GA001284</td>\n",
       "      <td>Acura</td>\n",
       "      <td>ILXAutomatic</td>\n",
       "    </tr>\n",
       "  </tbody>\n",
       "</table>\n",
       "</div>"
      ],
      "text/plain": [
       "   Price  Year  Mileage              City State                Vin   Make  \\\n",
       "0   8995  2014    35725           El Paso    TX  19VDE2E53EE000083  Acura   \n",
       "1  10888  2013    19606  Long Island City    NY  19VDE1F52DE012636  Acura   \n",
       "2   8995  2013    48851           El Paso    TX  19VDE2E52DE000025  Acura   \n",
       "3  10999  2014    39922           Windsor    CO  19VDE1F71EE003817  Acura   \n",
       "4  14799  2016    22142            Lindon    UT  19UDE2F32GA001284  Acura   \n",
       "\n",
       "          Model  \n",
       "0    ILX6-Speed  \n",
       "1    ILX5-Speed  \n",
       "2    ILX6-Speed  \n",
       "3    ILX5-Speed  \n",
       "4  ILXAutomatic  "
      ]
     },
     "metadata": {},
     "output_type": "display_data"
    },
    {
     "name": "stdout",
     "output_type": "stream",
     "text": [
      "Last five rows --------------------------------------------------------------------------------------------------------------\n"
     ]
    },
    {
     "data": {
      "text/html": [
       "<div>\n",
       "<style scoped>\n",
       "    .dataframe tbody tr th:only-of-type {\n",
       "        vertical-align: middle;\n",
       "    }\n",
       "\n",
       "    .dataframe tbody tr th {\n",
       "        vertical-align: top;\n",
       "    }\n",
       "\n",
       "    .dataframe thead th {\n",
       "        text-align: right;\n",
       "    }\n",
       "</style>\n",
       "<table border=\"1\" class=\"dataframe\">\n",
       "  <thead>\n",
       "    <tr style=\"text-align: right;\">\n",
       "      <th></th>\n",
       "      <th>Price</th>\n",
       "      <th>Year</th>\n",
       "      <th>Mileage</th>\n",
       "      <th>City</th>\n",
       "      <th>State</th>\n",
       "      <th>Vin</th>\n",
       "      <th>Make</th>\n",
       "      <th>Model</th>\n",
       "    </tr>\n",
       "  </thead>\n",
       "  <tbody>\n",
       "    <tr>\n",
       "      <th>852117</th>\n",
       "      <td>63215</td>\n",
       "      <td>2017</td>\n",
       "      <td>9</td>\n",
       "      <td>Culver City</td>\n",
       "      <td>CA</td>\n",
       "      <td>YV1A22MK9H1013237</td>\n",
       "      <td>Volvo</td>\n",
       "      <td>S90T6</td>\n",
       "    </tr>\n",
       "    <tr>\n",
       "      <th>852118</th>\n",
       "      <td>72260</td>\n",
       "      <td>2017</td>\n",
       "      <td>3201</td>\n",
       "      <td>Englewood</td>\n",
       "      <td>NJ</td>\n",
       "      <td>YV4A22PL3H1186162</td>\n",
       "      <td>Volvo</td>\n",
       "      <td>XC90T6</td>\n",
       "    </tr>\n",
       "    <tr>\n",
       "      <th>852119</th>\n",
       "      <td>55999</td>\n",
       "      <td>2016</td>\n",
       "      <td>28941</td>\n",
       "      <td>Fort Collins</td>\n",
       "      <td>CO</td>\n",
       "      <td>YV4A22PL4G1000868</td>\n",
       "      <td>Volvo</td>\n",
       "      <td>XC90AWD</td>\n",
       "    </tr>\n",
       "    <tr>\n",
       "      <th>852120</th>\n",
       "      <td>60240</td>\n",
       "      <td>2017</td>\n",
       "      <td>3005</td>\n",
       "      <td>San Leandro</td>\n",
       "      <td>CA</td>\n",
       "      <td>YV4A22NLXH1006162</td>\n",
       "      <td>Volvo</td>\n",
       "      <td>V90</td>\n",
       "    </tr>\n",
       "    <tr>\n",
       "      <th>852121</th>\n",
       "      <td>76995</td>\n",
       "      <td>2017</td>\n",
       "      <td>2502</td>\n",
       "      <td>New York</td>\n",
       "      <td>NY</td>\n",
       "      <td>YV4BC0ZX1H1109845</td>\n",
       "      <td>Volvo</td>\n",
       "      <td>XC90T8</td>\n",
       "    </tr>\n",
       "  </tbody>\n",
       "</table>\n",
       "</div>"
      ],
      "text/plain": [
       "        Price  Year  Mileage          City State                Vin   Make  \\\n",
       "852117  63215  2017        9   Culver City    CA  YV1A22MK9H1013237  Volvo   \n",
       "852118  72260  2017     3201     Englewood    NJ  YV4A22PL3H1186162  Volvo   \n",
       "852119  55999  2016    28941  Fort Collins    CO  YV4A22PL4G1000868  Volvo   \n",
       "852120  60240  2017     3005   San Leandro    CA  YV4A22NLXH1006162  Volvo   \n",
       "852121  76995  2017     2502      New York    NY  YV4BC0ZX1H1109845  Volvo   \n",
       "\n",
       "          Model  \n",
       "852117    S90T6  \n",
       "852118   XC90T6  \n",
       "852119  XC90AWD  \n",
       "852120      V90  \n",
       "852121   XC90T8  "
      ]
     },
     "metadata": {},
     "output_type": "display_data"
    },
    {
     "name": "stdout",
     "output_type": "stream",
     "text": [
      "Random ten rows --------------------------------------------------------------------------------------------------------------\n"
     ]
    },
    {
     "data": {
      "text/html": [
       "<div>\n",
       "<style scoped>\n",
       "    .dataframe tbody tr th:only-of-type {\n",
       "        vertical-align: middle;\n",
       "    }\n",
       "\n",
       "    .dataframe tbody tr th {\n",
       "        vertical-align: top;\n",
       "    }\n",
       "\n",
       "    .dataframe thead th {\n",
       "        text-align: right;\n",
       "    }\n",
       "</style>\n",
       "<table border=\"1\" class=\"dataframe\">\n",
       "  <thead>\n",
       "    <tr style=\"text-align: right;\">\n",
       "      <th></th>\n",
       "      <th>Price</th>\n",
       "      <th>Year</th>\n",
       "      <th>Mileage</th>\n",
       "      <th>City</th>\n",
       "      <th>State</th>\n",
       "      <th>Vin</th>\n",
       "      <th>Make</th>\n",
       "      <th>Model</th>\n",
       "    </tr>\n",
       "  </thead>\n",
       "  <tbody>\n",
       "    <tr>\n",
       "      <th>771139</th>\n",
       "      <td>11847</td>\n",
       "      <td>2013</td>\n",
       "      <td>77350</td>\n",
       "      <td>Leesburg</td>\n",
       "      <td>FL</td>\n",
       "      <td>JTDKN3DU9D5596405</td>\n",
       "      <td>Toyota</td>\n",
       "      <td>PriusTwo</td>\n",
       "    </tr>\n",
       "    <tr>\n",
       "      <th>43532</th>\n",
       "      <td>24995</td>\n",
       "      <td>2012</td>\n",
       "      <td>54656</td>\n",
       "      <td>Teterboro</td>\n",
       "      <td>NJ</td>\n",
       "      <td>5UXZV4C50CL755416</td>\n",
       "      <td>BMW</td>\n",
       "      <td>X5AWD</td>\n",
       "    </tr>\n",
       "    <tr>\n",
       "      <th>275419</th>\n",
       "      <td>22011</td>\n",
       "      <td>2015</td>\n",
       "      <td>28584</td>\n",
       "      <td>Wichita</td>\n",
       "      <td>KS</td>\n",
       "      <td>1FMCU9J91FUA83065</td>\n",
       "      <td>Ford</td>\n",
       "      <td>Escape4WD</td>\n",
       "    </tr>\n",
       "    <tr>\n",
       "      <th>343223</th>\n",
       "      <td>45990</td>\n",
       "      <td>2017</td>\n",
       "      <td>22347</td>\n",
       "      <td>Asheville</td>\n",
       "      <td>NC</td>\n",
       "      <td>1FT7W2BT4HEC65230</td>\n",
       "      <td>Ford</td>\n",
       "      <td>Super</td>\n",
       "    </tr>\n",
       "    <tr>\n",
       "      <th>474821</th>\n",
       "      <td>33977</td>\n",
       "      <td>2017</td>\n",
       "      <td>11223</td>\n",
       "      <td>North Plainfield</td>\n",
       "      <td>NJ</td>\n",
       "      <td>JN8CS1MW0HM411533</td>\n",
       "      <td>INFINITI</td>\n",
       "      <td>QX70AWD</td>\n",
       "    </tr>\n",
       "    <tr>\n",
       "      <th>605291</th>\n",
       "      <td>32750</td>\n",
       "      <td>2015</td>\n",
       "      <td>35373</td>\n",
       "      <td>Little Rock</td>\n",
       "      <td>AR</td>\n",
       "      <td>WDCGG8JB4FG399594</td>\n",
       "      <td>Mercedes-Benz</td>\n",
       "      <td>GLK-ClassGLK350</td>\n",
       "    </tr>\n",
       "    <tr>\n",
       "      <th>9520</th>\n",
       "      <td>37459</td>\n",
       "      <td>2016</td>\n",
       "      <td>16874</td>\n",
       "      <td>Dallas</td>\n",
       "      <td>TX</td>\n",
       "      <td>5FRYD3H27GB017113</td>\n",
       "      <td>Acura</td>\n",
       "      <td>MDXFWD</td>\n",
       "    </tr>\n",
       "    <tr>\n",
       "      <th>568250</th>\n",
       "      <td>34443</td>\n",
       "      <td>2015</td>\n",
       "      <td>37428</td>\n",
       "      <td>Watertown</td>\n",
       "      <td>MA</td>\n",
       "      <td>2T2BK1BA0FC282262</td>\n",
       "      <td>Lexus</td>\n",
       "      <td>RX</td>\n",
       "    </tr>\n",
       "    <tr>\n",
       "      <th>823822</th>\n",
       "      <td>18251</td>\n",
       "      <td>2015</td>\n",
       "      <td>15479</td>\n",
       "      <td>Columbus</td>\n",
       "      <td>OH</td>\n",
       "      <td>3VWYT7AU8FM039300</td>\n",
       "      <td>Volkswagen</td>\n",
       "      <td>Golf</td>\n",
       "    </tr>\n",
       "    <tr>\n",
       "      <th>729207</th>\n",
       "      <td>16591</td>\n",
       "      <td>2016</td>\n",
       "      <td>39335</td>\n",
       "      <td>Norwood</td>\n",
       "      <td>MA</td>\n",
       "      <td>JF1GPAA68G8262241</td>\n",
       "      <td>Subaru</td>\n",
       "      <td>Impreza</td>\n",
       "    </tr>\n",
       "  </tbody>\n",
       "</table>\n",
       "</div>"
      ],
      "text/plain": [
       "        Price  Year  Mileage              City State                Vin  \\\n",
       "771139  11847  2013    77350          Leesburg    FL  JTDKN3DU9D5596405   \n",
       "43532   24995  2012    54656         Teterboro    NJ  5UXZV4C50CL755416   \n",
       "275419  22011  2015    28584           Wichita    KS  1FMCU9J91FUA83065   \n",
       "343223  45990  2017    22347         Asheville    NC  1FT7W2BT4HEC65230   \n",
       "474821  33977  2017    11223  North Plainfield    NJ  JN8CS1MW0HM411533   \n",
       "605291  32750  2015    35373       Little Rock    AR  WDCGG8JB4FG399594   \n",
       "9520    37459  2016    16874            Dallas    TX  5FRYD3H27GB017113   \n",
       "568250  34443  2015    37428         Watertown    MA  2T2BK1BA0FC282262   \n",
       "823822  18251  2015    15479          Columbus    OH  3VWYT7AU8FM039300   \n",
       "729207  16591  2016    39335           Norwood    MA  JF1GPAA68G8262241   \n",
       "\n",
       "                 Make            Model  \n",
       "771139         Toyota         PriusTwo  \n",
       "43532             BMW            X5AWD  \n",
       "275419           Ford        Escape4WD  \n",
       "343223           Ford            Super  \n",
       "474821       INFINITI          QX70AWD  \n",
       "605291  Mercedes-Benz  GLK-ClassGLK350  \n",
       "9520            Acura           MDXFWD  \n",
       "568250          Lexus               RX  \n",
       "823822     Volkswagen             Golf  \n",
       "729207         Subaru          Impreza  "
      ]
     },
     "metadata": {},
     "output_type": "display_data"
    }
   ],
   "source": [
    "# Preview the dataset\n",
    "# View the first 5, last 5 and random 10 rows\n",
    "print('First five rows', '--'*55)\n",
    "display(data.head())\n",
    "\n",
    "print('Last five rows', '--'*55)\n",
    "display(data.tail())\n",
    "\n",
    "print('Random ten rows', '--'*55)\n",
    "np.random.seed(1)\n",
    "display(data.sample(n=10))"
   ]
  },
  {
   "cell_type": "markdown",
   "metadata": {},
   "source": [
    "**Observations:**\n",
    "* The **S.No.** is simply a row identifier which can be removed later.\n",
    "* The **Name** is long string comprising the Brand, Model and addition specification. These can be split to further analyse by make and model.\n",
    "* The **Location** is a geographical location. We can possibly create a heat map of car make by location.\n",
    "* The **Fuel_Type**, **Transmission** and **Owner_Type** are categorical variable which can be possibly be onehot encoded.\n",
    "* **Mileage** is a string leading with number and unit. This shall be split into the mileage number and mileage unit. Further analysis will determine if the mileage number to be converted based on the units.\n",
    "* **Engine** and **Power** both are strings leading with number and unit. This shall be split and numerical portion will be used in analysis.\n",
    "* **Seats** is a discrete numerical variable.\n",
    "* **New_Price** has many missing values. Where it contains a value the currency term shall be removed by splitting.\n",
    "* **Price** has missing values"
   ]
  },
  {
   "cell_type": "markdown",
   "metadata": {},
   "source": [
    "For ease of programming analysis the dataframe column names shall be converted to lower case."
   ]
  },
  {
   "cell_type": "code",
   "execution_count": 8,
   "metadata": {
    "execution": {
     "iopub.execute_input": "2025-10-14T06:22:59.871406Z",
     "iopub.status.busy": "2025-10-14T06:22:59.871015Z",
     "iopub.status.idle": "2025-10-14T06:22:59.876379Z",
     "shell.execute_reply": "2025-10-14T06:22:59.875525Z",
     "shell.execute_reply.started": "2025-10-14T06:22:59.871372Z"
    },
    "trusted": true
   },
   "outputs": [],
   "source": [
    "data.columns = [col.lower() for col in data.columns]"
   ]
  },
  {
   "cell_type": "markdown",
   "metadata": {},
   "source": [
    "Let's check the first row in the dataframe to verify the change"
   ]
  },
  {
   "cell_type": "code",
   "execution_count": 9,
   "metadata": {
    "execution": {
     "iopub.execute_input": "2025-10-14T06:22:59.877692Z",
     "iopub.status.busy": "2025-10-14T06:22:59.877396Z",
     "iopub.status.idle": "2025-10-14T06:22:59.900221Z",
     "shell.execute_reply": "2025-10-14T06:22:59.899239Z",
     "shell.execute_reply.started": "2025-10-14T06:22:59.877658Z"
    },
    "trusted": true
   },
   "outputs": [
    {
     "data": {
      "text/html": [
       "<div>\n",
       "<style scoped>\n",
       "    .dataframe tbody tr th:only-of-type {\n",
       "        vertical-align: middle;\n",
       "    }\n",
       "\n",
       "    .dataframe tbody tr th {\n",
       "        vertical-align: top;\n",
       "    }\n",
       "\n",
       "    .dataframe thead th {\n",
       "        text-align: right;\n",
       "    }\n",
       "</style>\n",
       "<table border=\"1\" class=\"dataframe\">\n",
       "  <thead>\n",
       "    <tr style=\"text-align: right;\">\n",
       "      <th></th>\n",
       "      <th>price</th>\n",
       "      <th>year</th>\n",
       "      <th>mileage</th>\n",
       "      <th>city</th>\n",
       "      <th>state</th>\n",
       "      <th>vin</th>\n",
       "      <th>make</th>\n",
       "      <th>model</th>\n",
       "    </tr>\n",
       "  </thead>\n",
       "  <tbody>\n",
       "    <tr>\n",
       "      <th>0</th>\n",
       "      <td>8995</td>\n",
       "      <td>2014</td>\n",
       "      <td>35725</td>\n",
       "      <td>El Paso</td>\n",
       "      <td>TX</td>\n",
       "      <td>19VDE2E53EE000083</td>\n",
       "      <td>Acura</td>\n",
       "      <td>ILX6-Speed</td>\n",
       "    </tr>\n",
       "  </tbody>\n",
       "</table>\n",
       "</div>"
      ],
      "text/plain": [
       "   price  year  mileage     city state                vin   make       model\n",
       "0   8995  2014    35725  El Paso    TX  19VDE2E53EE000083  Acura  ILX6-Speed"
      ]
     },
     "execution_count": 9,
     "metadata": {},
     "output_type": "execute_result"
    }
   ],
   "source": [
    "data.head(1)"
   ]
  },
  {
   "cell_type": "markdown",
   "metadata": {},
   "source": [
    "## Variable List"
   ]
  },
  {
   "cell_type": "code",
   "execution_count": 10,
   "metadata": {
    "execution": {
     "iopub.execute_input": "2025-10-14T06:22:59.901542Z",
     "iopub.status.busy": "2025-10-14T06:22:59.901213Z",
     "iopub.status.idle": "2025-10-14T06:22:59.917057Z",
     "shell.execute_reply": "2025-10-14T06:22:59.916214Z",
     "shell.execute_reply.started": "2025-10-14T06:22:59.901518Z"
    },
    "trusted": true
   },
   "outputs": [
    {
     "name": "stdout",
     "output_type": "stream",
     "text": [
      "['price', 'year', 'mileage', 'city', 'state', 'vin', 'make', 'model']\n"
     ]
    }
   ],
   "source": [
    "# Display list of variables in dataset\n",
    "variable_list = data.columns.tolist()\n",
    "print(variable_list)"
   ]
  },
  {
   "cell_type": "markdown",
   "metadata": {},
   "source": [
    "## Get the shape of the dataset"
   ]
  },
  {
   "cell_type": "code",
   "execution_count": 11,
   "metadata": {
    "execution": {
     "iopub.execute_input": "2025-10-14T06:22:59.918496Z",
     "iopub.status.busy": "2025-10-14T06:22:59.918137Z",
     "iopub.status.idle": "2025-10-14T06:22:59.935130Z",
     "shell.execute_reply": "2025-10-14T06:22:59.933848Z",
     "shell.execute_reply.started": "2025-10-14T06:22:59.918471Z"
    },
    "trusted": true
   },
   "outputs": [
    {
     "name": "stdout",
     "output_type": "stream",
     "text": [
      "The Dataframe consists of '852122' rows and '8' columns\n"
     ]
    }
   ],
   "source": [
    "shape = data.shape\n",
    "n_rows = shape[0]\n",
    "n_cols = shape[1]\n",
    "print(f\"The Dataframe consists of '{n_rows}' rows and '{n_cols}' columns\")"
   ]
  },
  {
   "cell_type": "markdown",
   "metadata": {},
   "source": [
    "## Data info"
   ]
  },
  {
   "cell_type": "code",
   "execution_count": 12,
   "metadata": {
    "execution": {
     "iopub.execute_input": "2025-10-14T06:22:59.936692Z",
     "iopub.status.busy": "2025-10-14T06:22:59.936308Z",
     "iopub.status.idle": "2025-10-14T06:23:00.201624Z",
     "shell.execute_reply": "2025-10-14T06:23:00.200533Z",
     "shell.execute_reply.started": "2025-10-14T06:22:59.936659Z"
    },
    "trusted": true
   },
   "outputs": [
    {
     "name": "stdout",
     "output_type": "stream",
     "text": [
      "<class 'pandas.core.frame.DataFrame'>\n",
      "RangeIndex: 852122 entries, 0 to 852121\n",
      "Data columns (total 8 columns):\n",
      " #   Column   Non-Null Count   Dtype \n",
      "---  ------   --------------   ----- \n",
      " 0   price    852122 non-null  int64 \n",
      " 1   year     852122 non-null  int64 \n",
      " 2   mileage  852122 non-null  int64 \n",
      " 3   city     852122 non-null  object\n",
      " 4   state    852122 non-null  object\n",
      " 5   vin      852122 non-null  object\n",
      " 6   make     852122 non-null  object\n",
      " 7   model    852122 non-null  object\n",
      "dtypes: int64(3), object(5)\n",
      "memory usage: 52.0+ MB\n"
     ]
    }
   ],
   "source": [
    "# Get info of the dataframe columns\n",
    "data.info()"
   ]
  },
  {
   "cell_type": "markdown",
   "metadata": {},
   "source": [
    "**Panda Object Variable states**"
   ]
  },
  {
   "cell_type": "code",
   "execution_count": 13,
   "metadata": {
    "execution": {
     "iopub.execute_input": "2025-10-14T06:23:00.203067Z",
     "iopub.status.busy": "2025-10-14T06:23:00.202641Z",
     "iopub.status.idle": "2025-10-14T06:23:00.209747Z",
     "shell.execute_reply": "2025-10-14T06:23:00.208694Z",
     "shell.execute_reply.started": "2025-10-14T06:23:00.202986Z"
    },
    "trusted": true
   },
   "outputs": [],
   "source": [
    "# Panda Object Variable states function\n",
    "\n",
    "def pandas_object_states(data):\n",
    "    \"\"\"\n",
    "    This function checks if the variable type is pandas Object and\n",
    "    displays the states and counts of each\n",
    "    \"\"\"\n",
    "    # Loop through all variables\n",
    "    for var in data.columns:\n",
    "        # Check for pandas Object type\n",
    "        if data[var].dtypes == \"object\":\n",
    "            print('Unique values in', var, 'are :')\n",
    "            print(data[var].value_counts().sort_index())\n",
    "            print('--'*55)"
   ]
  },
  {
   "cell_type": "code",
   "execution_count": 14,
   "metadata": {
    "execution": {
     "iopub.execute_input": "2025-10-14T06:23:00.211259Z",
     "iopub.status.busy": "2025-10-14T06:23:00.210900Z",
     "iopub.status.idle": "2025-10-14T06:23:02.898813Z",
     "shell.execute_reply": "2025-10-14T06:23:02.897718Z",
     "shell.execute_reply.started": "2025-10-14T06:23:00.211229Z"
    },
    "trusted": true
   },
   "outputs": [
    {
     "name": "stdout",
     "output_type": "stream",
     "text": [
      "Unique values in city are :\n",
      "city\n",
      "AKRON            9\n",
      "ALEXANDRIA      70\n",
      "AURORA          49\n",
      "AUSTIN         349\n",
      "AVON             6\n",
      "              ... \n",
      "kansas city     85\n",
      "marietta        41\n",
      "phoenix         85\n",
      "salt lake       21\n",
      "victorville     68\n",
      "Name: count, Length: 2553, dtype: int64\n",
      "--------------------------------------------------------------------------------------------------------------\n",
      "Unique values in state are :\n",
      "state\n",
      "AK     1663\n",
      "AL    13293\n",
      "AR     6952\n",
      "AZ    22401\n",
      "Az       63\n",
      "CA    80437\n",
      "CO    23004\n",
      "CT    10906\n",
      "Ca       31\n",
      "DC       25\n",
      "DE     2418\n",
      "FL    72530\n",
      "Fl      783\n",
      "GA    39414\n",
      "Ga      109\n",
      "HI     2995\n",
      "IA     4840\n",
      "ID     3501\n",
      "IL    38680\n",
      "IN    16465\n",
      "KS     7894\n",
      "KY    13691\n",
      "LA     8528\n",
      "MA    17990\n",
      "MD    17572\n",
      "ME     1920\n",
      "MI    10328\n",
      "MN    10996\n",
      "MO    16165\n",
      "MS     6242\n",
      "MT     1984\n",
      "Md      135\n",
      "NC    37530\n",
      "ND     1092\n",
      "NE     4924\n",
      "NH     5694\n",
      "NJ    27852\n",
      "NM     4729\n",
      "NV     6887\n",
      "NY    27932\n",
      "OH    23259\n",
      "OK     9584\n",
      "OR    10352\n",
      "Oh       52\n",
      "PA    28130\n",
      "RI     1858\n",
      "SC     9790\n",
      "SD     1267\n",
      "TN    19166\n",
      "TX    94654\n",
      "UT    10418\n",
      "VA    35011\n",
      "VT     1123\n",
      "Va      248\n",
      "WA    23149\n",
      "WI    11255\n",
      "WV     1501\n",
      "WY      610\n",
      "ga      100\n",
      "Name: count, dtype: int64\n",
      "--------------------------------------------------------------------------------------------------------------\n",
      "Unique values in vin are :\n",
      "vin\n",
      "04WT3N56GG0646582    1\n",
      "04WT3N59GG1261202    1\n",
      "137FA84322E198163    1\n",
      "137FA84374E208897    1\n",
      "137FA843X1E195221    1\n",
      "                    ..\n",
      "ZN661YUL8HX230445    1\n",
      "ZN661YUS6HX235084    1\n",
      "ZN661YUS7HX230573    1\n",
      "ZN661YUS8HX230520    1\n",
      "ZN661YUS9HX226976    1\n",
      "Name: count, Length: 852075, dtype: int64\n",
      "--------------------------------------------------------------------------------------------------------------\n",
      "Unique values in make are :\n",
      "make\n",
      "AM                   19\n",
      "Acura             11049\n",
      "Alfa                 44\n",
      "Aston               149\n",
      "Audi              12618\n",
      "BMW               32415\n",
      "Bentley             367\n",
      "Buick             12491\n",
      "Cadillac          15047\n",
      "Chevrolet        102268\n",
      "Chrysler          16357\n",
      "Dodge             34368\n",
      "FIAT               1782\n",
      "Ferrari             345\n",
      "Fisker               19\n",
      "Ford             110432\n",
      "Freightliner         11\n",
      "GMC               29008\n",
      "Genesis             141\n",
      "Geo                   2\n",
      "HUMMER              949\n",
      "Honda             50193\n",
      "Hyundai           35837\n",
      "INFINITI          12258\n",
      "Isuzu                76\n",
      "Jaguar             2200\n",
      "Jeep              40373\n",
      "Kia               28636\n",
      "Lamborghini         121\n",
      "Land               4096\n",
      "Lexus             20641\n",
      "Lincoln            7120\n",
      "Lotus                42\n",
      "MINI               4375\n",
      "Maserati           1047\n",
      "Maybach              10\n",
      "Mazda             13365\n",
      "McLaren              47\n",
      "Mercedes-Benz     26323\n",
      "Mercury            1076\n",
      "Mitsubishi         4080\n",
      "Nissan            66250\n",
      "Oldsmobile          122\n",
      "Plymouth             51\n",
      "Pontiac            1783\n",
      "Porsche            4106\n",
      "Ram               19808\n",
      "Rolls-Royce          92\n",
      "Saab                260\n",
      "Saturn              963\n",
      "Scion              3043\n",
      "Subaru            16428\n",
      "Suzuki              334\n",
      "Tesla               231\n",
      "Toyota            77786\n",
      "Volkswagen        23249\n",
      "Volvo              5106\n",
      "smart               713\n",
      "Name: count, dtype: int64\n",
      "--------------------------------------------------------------------------------------------------------------\n",
      "Unique values in model are :\n",
      "model\n",
      "1               437\n",
      "124              34\n",
      "1500              1\n",
      "15002WD         563\n",
      "15004WD        1351\n",
      "               ... \n",
      "xBManual         33\n",
      "xD                1\n",
      "xD5dr           133\n",
      "xDAutomatic     122\n",
      "xDManual         20\n",
      "Name: count, Length: 2736, dtype: int64\n",
      "--------------------------------------------------------------------------------------------------------------\n"
     ]
    }
   ],
   "source": [
    "# Check the states of all pandas Object variables\n",
    "pandas_object_states(data)"
   ]
  },
  {
   "cell_type": "markdown",
   "metadata": {},
   "source": [
    "**Missing value summary function**"
   ]
  },
  {
   "cell_type": "code",
   "execution_count": 15,
   "metadata": {
    "execution": {
     "iopub.execute_input": "2025-10-14T06:23:02.903552Z",
     "iopub.status.busy": "2025-10-14T06:23:02.902880Z",
     "iopub.status.idle": "2025-10-14T06:23:02.909649Z",
     "shell.execute_reply": "2025-10-14T06:23:02.908526Z",
     "shell.execute_reply.started": "2025-10-14T06:23:02.903523Z"
    },
    "trusted": true
   },
   "outputs": [],
   "source": [
    "def missing_val_chk(data):\n",
    "    \"\"\"\n",
    "    This function to checks for missing values \n",
    "    and generates a summary.\n",
    "    \"\"\"\n",
    "    if data.isnull().sum().any() == True:\n",
    "        # Number of missing in each column\n",
    "        missing_vals = pd.DataFrame(data.isnull().sum().sort_values(\n",
    "            ascending=False)).rename(columns={0: '# missing'})\n",
    "\n",
    "        # Create a percentage missing\n",
    "        missing_vals['percent'] = ((missing_vals['# missing'] / len(data)) *\n",
    "                                   100).round(decimals=3)\n",
    "\n",
    "        # Remove rows with 0\n",
    "        missing_vals = missing_vals[missing_vals['# missing'] != 0].dropna()\n",
    "\n",
    "        # display missing value dataframe\n",
    "        print(\"The missing values summary\")\n",
    "        display(missing_vals)\n",
    "    else:\n",
    "        print(\"There are NO missing values in the dataset\")"
   ]
  },
  {
   "cell_type": "code",
   "execution_count": 16,
   "metadata": {
    "execution": {
     "iopub.execute_input": "2025-10-14T06:23:02.911105Z",
     "iopub.status.busy": "2025-10-14T06:23:02.910636Z",
     "iopub.status.idle": "2025-10-14T06:23:03.135577Z",
     "shell.execute_reply": "2025-10-14T06:23:03.134460Z",
     "shell.execute_reply.started": "2025-10-14T06:23:02.911074Z"
    },
    "trusted": true
   },
   "outputs": [
    {
     "name": "stdout",
     "output_type": "stream",
     "text": [
      "There are NO missing values in the dataset\n"
     ]
    }
   ],
   "source": [
    "#Applying the missing value summary function\n",
    "missing_val_chk(data)"
   ]
  },
  {
   "cell_type": "markdown",
   "metadata": {},
   "source": [
    "**Numerical type Summary**"
   ]
  },
  {
   "cell_type": "code",
   "execution_count": 17,
   "metadata": {
    "execution": {
     "iopub.execute_input": "2025-10-14T06:23:03.137616Z",
     "iopub.status.busy": "2025-10-14T06:23:03.137162Z",
     "iopub.status.idle": "2025-10-14T06:23:03.241171Z",
     "shell.execute_reply": "2025-10-14T06:23:03.240141Z",
     "shell.execute_reply.started": "2025-10-14T06:23:03.137589Z"
    },
    "trusted": true
   },
   "outputs": [
    {
     "data": {
      "text/html": [
       "<div>\n",
       "<style scoped>\n",
       "    .dataframe tbody tr th:only-of-type {\n",
       "        vertical-align: middle;\n",
       "    }\n",
       "\n",
       "    .dataframe tbody tr th {\n",
       "        vertical-align: top;\n",
       "    }\n",
       "\n",
       "    .dataframe thead th {\n",
       "        text-align: right;\n",
       "    }\n",
       "</style>\n",
       "<table border=\"1\" class=\"dataframe\">\n",
       "  <thead>\n",
       "    <tr style=\"text-align: right;\">\n",
       "      <th></th>\n",
       "      <th>count</th>\n",
       "      <th>mean</th>\n",
       "      <th>std</th>\n",
       "      <th>min</th>\n",
       "      <th>25%</th>\n",
       "      <th>50%</th>\n",
       "      <th>75%</th>\n",
       "      <th>max</th>\n",
       "    </tr>\n",
       "  </thead>\n",
       "  <tbody>\n",
       "    <tr>\n",
       "      <th>price</th>\n",
       "      <td>852122.0</td>\n",
       "      <td>21464.100210</td>\n",
       "      <td>13596.202241</td>\n",
       "      <td>1500.0</td>\n",
       "      <td>13000.0</td>\n",
       "      <td>18500.0</td>\n",
       "      <td>26995.0</td>\n",
       "      <td>499500.0</td>\n",
       "    </tr>\n",
       "    <tr>\n",
       "      <th>year</th>\n",
       "      <td>852122.0</td>\n",
       "      <td>2013.289145</td>\n",
       "      <td>3.414987</td>\n",
       "      <td>1997.0</td>\n",
       "      <td>2012.0</td>\n",
       "      <td>2014.0</td>\n",
       "      <td>2016.0</td>\n",
       "      <td>2018.0</td>\n",
       "    </tr>\n",
       "    <tr>\n",
       "      <th>mileage</th>\n",
       "      <td>852122.0</td>\n",
       "      <td>52507.794921</td>\n",
       "      <td>41988.962042</td>\n",
       "      <td>5.0</td>\n",
       "      <td>23836.0</td>\n",
       "      <td>40256.0</td>\n",
       "      <td>72186.0</td>\n",
       "      <td>2856196.0</td>\n",
       "    </tr>\n",
       "  </tbody>\n",
       "</table>\n",
       "</div>"
      ],
      "text/plain": [
       "            count          mean           std     min      25%      50%  \\\n",
       "price    852122.0  21464.100210  13596.202241  1500.0  13000.0  18500.0   \n",
       "year     852122.0   2013.289145      3.414987  1997.0   2012.0   2014.0   \n",
       "mileage  852122.0  52507.794921  41988.962042     5.0  23836.0  40256.0   \n",
       "\n",
       "             75%        max  \n",
       "price    26995.0   499500.0  \n",
       "year      2016.0     2018.0  \n",
       "mileage  72186.0  2856196.0  "
      ]
     },
     "execution_count": 17,
     "metadata": {},
     "output_type": "execute_result"
    }
   ],
   "source": [
    "# Five point summary of all numerical type variables in the dataset\n",
    "data.describe().T"
   ]
  },
  {
   "cell_type": "markdown",
   "metadata": {},
   "source": [
    "**Categorical type Summary**"
   ]
  },
  {
   "cell_type": "code",
   "execution_count": 18,
   "metadata": {
    "execution": {
     "iopub.execute_input": "2025-10-14T06:23:03.242636Z",
     "iopub.status.busy": "2025-10-14T06:23:03.242278Z",
     "iopub.status.idle": "2025-10-14T06:23:04.929608Z",
     "shell.execute_reply": "2025-10-14T06:23:04.928628Z",
     "shell.execute_reply.started": "2025-10-14T06:23:03.242606Z"
    },
    "trusted": true
   },
   "outputs": [
    {
     "data": {
      "text/html": [
       "<div>\n",
       "<style scoped>\n",
       "    .dataframe tbody tr th:only-of-type {\n",
       "        vertical-align: middle;\n",
       "    }\n",
       "\n",
       "    .dataframe tbody tr th {\n",
       "        vertical-align: top;\n",
       "    }\n",
       "\n",
       "    .dataframe thead th {\n",
       "        text-align: right;\n",
       "    }\n",
       "</style>\n",
       "<table border=\"1\" class=\"dataframe\">\n",
       "  <thead>\n",
       "    <tr style=\"text-align: right;\">\n",
       "      <th></th>\n",
       "      <th>count</th>\n",
       "      <th>unique</th>\n",
       "      <th>top</th>\n",
       "      <th>freq</th>\n",
       "    </tr>\n",
       "  </thead>\n",
       "  <tbody>\n",
       "    <tr>\n",
       "      <th>city</th>\n",
       "      <td>852122</td>\n",
       "      <td>2553</td>\n",
       "      <td>Houston</td>\n",
       "      <td>12703</td>\n",
       "    </tr>\n",
       "    <tr>\n",
       "      <th>state</th>\n",
       "      <td>852122</td>\n",
       "      <td>59</td>\n",
       "      <td>TX</td>\n",
       "      <td>94654</td>\n",
       "    </tr>\n",
       "    <tr>\n",
       "      <th>vin</th>\n",
       "      <td>852122</td>\n",
       "      <td>852075</td>\n",
       "      <td>2G1FA1E37E9293949</td>\n",
       "      <td>2</td>\n",
       "    </tr>\n",
       "    <tr>\n",
       "      <th>make</th>\n",
       "      <td>852122</td>\n",
       "      <td>58</td>\n",
       "      <td>Ford</td>\n",
       "      <td>110432</td>\n",
       "    </tr>\n",
       "    <tr>\n",
       "      <th>model</th>\n",
       "      <td>852122</td>\n",
       "      <td>2736</td>\n",
       "      <td>Silverado</td>\n",
       "      <td>24932</td>\n",
       "    </tr>\n",
       "  </tbody>\n",
       "</table>\n",
       "</div>"
      ],
      "text/plain": [
       "        count  unique                top    freq\n",
       "city   852122    2553            Houston   12703\n",
       "state  852122      59                 TX   94654\n",
       "vin    852122  852075  2G1FA1E37E9293949       2\n",
       "make   852122      58               Ford  110432\n",
       "model  852122    2736          Silverado   24932"
      ]
     },
     "execution_count": 18,
     "metadata": {},
     "output_type": "execute_result"
    }
   ],
   "source": [
    "data.describe(include=['object']).T"
   ]
  },
  {
   "cell_type": "markdown",
   "metadata": {},
   "source": [
    "**Check if column `s.no.` simliar to index**"
   ]
  },
  {
   "cell_type": "code",
   "execution_count": 19,
   "metadata": {
    "execution": {
     "iopub.execute_input": "2025-10-14T06:23:04.931667Z",
     "iopub.status.busy": "2025-10-14T06:23:04.930864Z",
     "iopub.status.idle": "2025-10-14T06:23:04.938486Z",
     "shell.execute_reply": "2025-10-14T06:23:04.937589Z",
     "shell.execute_reply.started": "2025-10-14T06:23:04.931639Z"
    },
    "trusted": true
   },
   "outputs": [
    {
     "name": "stdout",
     "output_type": "stream",
     "text": [
      "Index values:\n",
      " 0    0\n",
      "1    1\n",
      "2    2\n",
      "3    3\n",
      "4    4\n",
      "Name: index, dtype: int64\n",
      "\n",
      "First column:\n",
      " 0     8995\n",
      "1    10888\n",
      "2     8995\n",
      "3    10999\n",
      "4    14799\n",
      "Name: price, dtype: int64\n"
     ]
    }
   ],
   "source": [
    "# Extract the index values and convert to Pandas Series for comparison\n",
    "idx = pd.Series(data.index.values, name=\"index\")\n",
    "\n",
    "# Extract the first column safely (whatever its name is)\n",
    "first_col = data.iloc[:, 0]\n",
    "\n",
    "# Display both to verify\n",
    "print(\"Index values:\\n\", idx.head())\n",
    "print(\"\\nFirst column:\\n\", first_col.head())\n"
   ]
  },
  {
   "cell_type": "markdown",
   "metadata": {},
   "source": [
    "**Compare Series idx and first_col**"
   ]
  },
  {
   "cell_type": "code",
   "execution_count": 20,
   "metadata": {
    "execution": {
     "iopub.execute_input": "2025-10-14T06:23:04.939712Z",
     "iopub.status.busy": "2025-10-14T06:23:04.939405Z",
     "iopub.status.idle": "2025-10-14T06:23:04.958287Z",
     "shell.execute_reply": "2025-10-14T06:23:04.957385Z",
     "shell.execute_reply.started": "2025-10-14T06:23:04.939689Z"
    },
    "trusted": true
   },
   "outputs": [
    {
     "data": {
      "text/plain": [
       "False"
      ]
     },
     "execution_count": 20,
     "metadata": {},
     "output_type": "execute_result"
    }
   ],
   "source": [
    "first_col.equals(idx)"
   ]
  },
  {
   "cell_type": "markdown",
   "metadata": {},
   "source": [
    "Therefore, let's drop the `s.no.` column"
   ]
  },
  {
   "cell_type": "code",
   "execution_count": 21,
   "metadata": {
    "execution": {
     "iopub.execute_input": "2025-10-14T06:23:04.959856Z",
     "iopub.status.busy": "2025-10-14T06:23:04.959479Z",
     "iopub.status.idle": "2025-10-14T06:23:05.034247Z",
     "shell.execute_reply": "2025-10-14T06:23:05.033230Z",
     "shell.execute_reply.started": "2025-10-14T06:23:04.959822Z"
    },
    "trusted": true
   },
   "outputs": [],
   "source": [
    "data.drop(columns=[col for col in ['s.no.', 'Id'] if col in data.columns], inplace=True)\n"
   ]
  },
  {
   "cell_type": "markdown",
   "metadata": {},
   "source": [
    "Let's do a check to see if **s.no.** is in the dropped dataframe"
   ]
  },
  {
   "cell_type": "code",
   "execution_count": 22,
   "metadata": {
    "execution": {
     "iopub.execute_input": "2025-10-14T06:23:05.035621Z",
     "iopub.status.busy": "2025-10-14T06:23:05.035289Z",
     "iopub.status.idle": "2025-10-14T06:23:05.113884Z",
     "shell.execute_reply": "2025-10-14T06:23:05.112824Z",
     "shell.execute_reply.started": "2025-10-14T06:23:05.035587Z"
    },
    "trusted": true
   },
   "outputs": [],
   "source": [
    "data = data.rename(columns={'mileage_no': 'mileage'})"
   ]
  },
  {
   "cell_type": "code",
   "execution_count": 23,
   "metadata": {
    "execution": {
     "iopub.execute_input": "2025-10-14T06:23:05.115302Z",
     "iopub.status.busy": "2025-10-14T06:23:05.114957Z",
     "iopub.status.idle": "2025-10-14T06:23:05.121776Z",
     "shell.execute_reply": "2025-10-14T06:23:05.120791Z",
     "shell.execute_reply.started": "2025-10-14T06:23:05.115266Z"
    },
    "trusted": true
   },
   "outputs": [],
   "source": [
    "if data.mileage.dtypes != np.number:\n",
    "    # This will convert all numeric strings to float.\n",
    "    # If a value is non numeric it will set to NaN\n",
    "    data['mileage'] = pd.to_numeric(data.mileage, errors='coerce')"
   ]
  },
  {
   "cell_type": "code",
   "execution_count": null,
   "metadata": {
    "execution": {
     "iopub.execute_input": "2025-10-14T06:23:05.123158Z",
     "iopub.status.busy": "2025-10-14T06:23:05.122845Z",
     "iopub.status.idle": "2025-10-14T06:23:05.138873Z",
     "shell.execute_reply": "2025-10-14T06:23:05.137936Z",
     "shell.execute_reply.started": "2025-10-14T06:23:05.123124Z"
    },
    "trusted": true
   },
   "outputs": [
    {
     "name": "stdout",
     "output_type": "stream",
     "text": [
      "⚠️ No 'engine' column found in this dataset. Skipping engine split.\n"
     ]
    }
   ],
   "source": [
    "\n",
    "if 'engine' in data.columns:\n",
    "    data[['engine_disp', 'eng_disp_unit']] = data['engine'].str.split(' ', n=1, expand=True)\n",
    "else:\n",
    "    print(\"⚠️ No 'engine' column found in this dataset. Skipping engine split.\")\n"
   ]
  },
  {
   "cell_type": "code",
   "execution_count": 25,
   "metadata": {
    "execution": {
     "iopub.execute_input": "2025-10-14T06:23:05.140165Z",
     "iopub.status.busy": "2025-10-14T06:23:05.139819Z",
     "iopub.status.idle": "2025-10-14T06:23:05.162427Z",
     "shell.execute_reply": "2025-10-14T06:23:05.161266Z",
     "shell.execute_reply.started": "2025-10-14T06:23:05.140142Z"
    },
    "trusted": true
   },
   "outputs": [
    {
     "data": {
      "text/html": [
       "<div>\n",
       "<style scoped>\n",
       "    .dataframe tbody tr th:only-of-type {\n",
       "        vertical-align: middle;\n",
       "    }\n",
       "\n",
       "    .dataframe tbody tr th {\n",
       "        vertical-align: top;\n",
       "    }\n",
       "\n",
       "    .dataframe thead th {\n",
       "        text-align: right;\n",
       "    }\n",
       "</style>\n",
       "<table border=\"1\" class=\"dataframe\">\n",
       "  <thead>\n",
       "    <tr style=\"text-align: right;\">\n",
       "      <th></th>\n",
       "      <th>price</th>\n",
       "      <th>year</th>\n",
       "      <th>mileage</th>\n",
       "      <th>city</th>\n",
       "      <th>state</th>\n",
       "      <th>vin</th>\n",
       "      <th>make</th>\n",
       "      <th>model</th>\n",
       "    </tr>\n",
       "  </thead>\n",
       "  <tbody>\n",
       "    <tr>\n",
       "      <th>0</th>\n",
       "      <td>8995</td>\n",
       "      <td>2014</td>\n",
       "      <td>35725</td>\n",
       "      <td>El Paso</td>\n",
       "      <td>TX</td>\n",
       "      <td>19VDE2E53EE000083</td>\n",
       "      <td>Acura</td>\n",
       "      <td>ILX6-Speed</td>\n",
       "    </tr>\n",
       "  </tbody>\n",
       "</table>\n",
       "</div>"
      ],
      "text/plain": [
       "   price  year  mileage     city state                vin   make       model\n",
       "0   8995  2014    35725  El Paso    TX  19VDE2E53EE000083  Acura  ILX6-Speed"
      ]
     },
     "execution_count": 25,
     "metadata": {},
     "output_type": "execute_result"
    }
   ],
   "source": [
    "data.head(1)"
   ]
  },
  {
   "cell_type": "code",
   "execution_count": 26,
   "metadata": {
    "execution": {
     "iopub.execute_input": "2025-10-14T06:23:05.163984Z",
     "iopub.status.busy": "2025-10-14T06:23:05.163637Z",
     "iopub.status.idle": "2025-10-14T06:23:05.179579Z",
     "shell.execute_reply": "2025-10-14T06:23:05.178534Z",
     "shell.execute_reply.started": "2025-10-14T06:23:05.163949Z"
    },
    "trusted": true
   },
   "outputs": [],
   "source": [
    "if 'name' in data.columns:\n",
    "    data = data.drop(columns='name')\n"
   ]
  },
  {
   "cell_type": "code",
   "execution_count": 27,
   "metadata": {
    "execution": {
     "iopub.execute_input": "2025-10-14T06:23:05.181219Z",
     "iopub.status.busy": "2025-10-14T06:23:05.180946Z",
     "iopub.status.idle": "2025-10-14T06:23:05.205094Z",
     "shell.execute_reply": "2025-10-14T06:23:05.204064Z",
     "shell.execute_reply.started": "2025-10-14T06:23:05.181197Z"
    },
    "trusted": true
   },
   "outputs": [
    {
     "name": "stdout",
     "output_type": "stream",
     "text": [
      "Index(['price', 'year', 'mileage', 'city', 'state', 'vin', 'make', 'model'], dtype='object')\n"
     ]
    }
   ],
   "source": [
    "print(data.columns)"
   ]
  },
  {
   "cell_type": "code",
   "execution_count": 28,
   "metadata": {
    "execution": {
     "iopub.execute_input": "2025-10-14T06:23:05.206324Z",
     "iopub.status.busy": "2025-10-14T06:23:05.206070Z",
     "iopub.status.idle": "2025-10-14T06:23:05.220865Z",
     "shell.execute_reply": "2025-10-14T06:23:05.219901Z",
     "shell.execute_reply.started": "2025-10-14T06:23:05.206304Z"
    },
    "trusted": true
   },
   "outputs": [],
   "source": [
    "data['car_make'].value_counts() if 'car_make' in data.columns else None\n"
   ]
  },
  {
   "cell_type": "markdown",
   "metadata": {},
   "source": [
    "# Separating Independent and Dependent variables"
   ]
  },
  {
   "cell_type": "code",
   "execution_count": 29,
   "metadata": {
    "execution": {
     "iopub.execute_input": "2025-10-14T06:23:05.222305Z",
     "iopub.status.busy": "2025-10-14T06:23:05.221843Z",
     "iopub.status.idle": "2025-10-14T06:23:05.294714Z",
     "shell.execute_reply": "2025-10-14T06:23:05.293445Z",
     "shell.execute_reply.started": "2025-10-14T06:23:05.222279Z"
    },
    "trusted": true
   },
   "outputs": [],
   "source": [
    "# Separating Independent and Dependent variables\n",
    "\n",
    "# Independent variables\n",
    "X = data.drop(['price'], axis=1)\n",
    "\n",
    "# Dependent variable\n",
    "y = data[['price']]\n"
   ]
  },
  {
   "cell_type": "markdown",
   "metadata": {},
   "source": [
    "This code cell prepares the used car data by cleaning and using Ordinal Encoding on categorical features (state, city, make, model). It then trains a Linear Regression model to predict the car's price, evaluates the model's accuracy using R² and RMSE, and determines the feature importance based on the model's coefficients."
   ]
  },
  {
   "cell_type": "code",
   "execution_count": 36,
   "metadata": {
    "execution": {
     "iopub.execute_input": "2025-10-14T06:32:38.985327Z",
     "iopub.status.busy": "2025-10-14T06:32:38.984855Z",
     "iopub.status.idle": "2025-10-14T06:32:42.373458Z",
     "shell.execute_reply": "2025-10-14T06:32:42.370907Z",
     "shell.execute_reply.started": "2025-10-14T06:32:38.985286Z"
    },
    "trusted": true
   },
   "outputs": [
    {
     "name": "stdout",
     "output_type": "stream",
     "text": [
      "Training shape: (852122, 6)\n",
      "Testing shape: (852122, 6)\n",
      "\n",
      "Test Performance:\n",
      "R² Score: 0.20561683789783713\n",
      "Mean Squared Error: 146846889.75734496\n",
      "Root Mean Squared Error: 12118.039847984697\n",
      "\n",
      "Top Features by Influence:\n",
      "   Feature  Coefficient\n",
      "0     year   742.559497\n",
      "4     make   -66.413235\n",
      "2    state    22.884413\n",
      "5    model     1.360293\n",
      "3     city    -0.304090\n",
      "1  mileage    -0.092401\n"
     ]
    }
   ],
   "source": [
    "import pandas as pd\n",
    "import numpy as np\n",
    "from sklearn.preprocessing import OrdinalEncoder\n",
    "from sklearn.linear_model import LinearRegression\n",
    "from sklearn.metrics import r2_score, mean_squared_error\n",
    "\n",
    "# ----------------------------\n",
    "# Load training and test datasets\n",
    "# ----------------------------\n",
    "train_data =data\n",
    "test_data = pd.read_csv(\"/kaggle/input/852k-used-car-listings/true_car_listings.csv\",\n",
    "                        on_bad_lines='skip')\n",
    "\n",
    "# Standardize column names\n",
    "train_data.columns = train_data.columns.str.lower().str.strip()\n",
    "test_data.columns = test_data.columns.str.lower().str.strip()\n",
    "\n",
    "# ----------------------------\n",
    "# Select important columns\n",
    "# ----------------------------\n",
    "important_cols = ['price', 'year', 'mileage', 'state', 'city', 'make', 'model']\n",
    "\n",
    "X_train_selected = train_data[important_cols].copy()\n",
    "X_test_selected = test_data[important_cols].copy()\n",
    "\n",
    "# ----------------------------\n",
    "# Encode categorical columns with OrdinalEncoder\n",
    "# ----------------------------\n",
    "categorical_cols = ['state', 'city', 'make', 'model']\n",
    "encoder = OrdinalEncoder(handle_unknown='use_encoded_value', unknown_value=-1)\n",
    "\n",
    "X_train_selected[categorical_cols] = encoder.fit_transform(\n",
    "    X_train_selected[categorical_cols].astype(str)\n",
    ")\n",
    "X_test_selected[categorical_cols] = encoder.transform(\n",
    "    X_test_selected[categorical_cols].astype(str)\n",
    ")\n",
    "\n",
    "# ----------------------------\n",
    "# Prepare target\n",
    "# ----------------------------\n",
    "Y_train = pd.to_numeric(X_train_selected['price'], errors='coerce')\n",
    "Y_test = pd.to_numeric(X_test_selected['price'], errors='coerce')\n",
    "\n",
    "# Drop rows with missing targets\n",
    "train_valid_idx = ~np.isnan(Y_train)\n",
    "X_train_final = X_train_selected.loc[train_valid_idx].drop(columns='price')\n",
    "Y_train_final = Y_train[train_valid_idx]\n",
    "\n",
    "test_valid_idx = ~np.isnan(Y_test)\n",
    "X_test_final = X_test_selected.loc[test_valid_idx].drop(columns='price')\n",
    "Y_test_final = Y_test[test_valid_idx]\n",
    "\n",
    "print(\"Training shape:\", X_train_final.shape)\n",
    "print(\"Testing shape:\", X_test_final.shape)\n",
    "\n",
    "# ----------------------------\n",
    "# Fit Linear Regression\n",
    "# ----------------------------\n",
    "model = LinearRegression(fit_intercept=True)\n",
    "model.fit(X_train_final, Y_train_final)\n",
    "\n",
    "# ----------------------------\n",
    "# Evaluate on test data\n",
    "# ----------------------------\n",
    "Y_pred_test = model.predict(X_test_final)\n",
    "\n",
    "r2 = r2_score(Y_test_final, Y_pred_test)\n",
    "mse = mean_squared_error(Y_test_final, Y_pred_test)\n",
    "rmse = np.sqrt(mse)\n",
    "\n",
    "print(\"\\nTest Performance:\")\n",
    "print(\"R² Score:\", r2)\n",
    "print(\"Mean Squared Error:\", mse)\n",
    "print(\"Root Mean Squared Error:\", rmse)\n",
    "\n",
    "# ----------------------------\n",
    "# Feature importance\n",
    "# ----------------------------\n",
    "coef_df = pd.DataFrame({\n",
    "    'Feature': X_train_final.columns,\n",
    "    'Coefficient': model.coef_\n",
    "}).sort_values(by='Coefficient', key=abs, ascending=False)\n",
    "\n",
    "print(\"\\nTop Features by Influence:\")\n",
    "print(coef_df)\n"
   ]
  }
 ],
 "metadata": {
  "kaggle": {
   "accelerator": "none",
   "dataSources": [
    {
     "datasetId": 2690,
     "sourceId": 5413,
     "sourceType": "datasetVersion"
    }
   ],
   "dockerImageVersionId": 31153,
   "isGpuEnabled": false,
   "isInternetEnabled": true,
   "language": "python",
   "sourceType": "notebook"
  },
  "kernelspec": {
   "display_name": "Python 3",
   "language": "python",
   "name": "python3"
  },
  "language_info": {
   "codemirror_mode": {
    "name": "ipython",
    "version": 3
   },
   "file_extension": ".py",
   "mimetype": "text/x-python",
   "name": "python",
   "nbconvert_exporter": "python",
   "pygments_lexer": "ipython3",
   "version": "3.11.13"
  }
 },
 "nbformat": 4,
 "nbformat_minor": 4
}
